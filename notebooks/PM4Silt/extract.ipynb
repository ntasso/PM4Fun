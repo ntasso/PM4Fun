{
 "cells": [
  {
   "cell_type": "code",
   "execution_count": null,
   "metadata": {
    "vscode": {
     "languageId": "plaintext"
    }
   },
   "outputs": [],
   "source": [
    "from plxscripting.easy import *\n",
    "localhostport_s = 10000\n",
    "s_i, g_i = new_server('localhost', localhostport_s, password='')\n",
    "\n",
    "localhostport_s = 10001\n",
    "s_o, g_o = new_server('localhost', localhostport_s, password='')"
   ]
  },
  {
   "cell_type": "code",
   "execution_count": null,
   "metadata": {
    "vscode": {
     "languageId": "plaintext"
    }
   },
   "outputs": [],
   "source": [
    "data = def extract_data_PM4Silt(g_o,phases,x,y)"
   ]
  }
 ],
 "metadata": {
  "language_info": {
   "name": "python"
  }
 },
 "nbformat": 4,
 "nbformat_minor": 2
}
