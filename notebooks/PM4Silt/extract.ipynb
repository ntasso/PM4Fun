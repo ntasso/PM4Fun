{
 "cells": [
  {
   "cell_type": "code",
   "execution_count": 4,
   "metadata": {},
   "outputs": [],
   "source": [
    "from plxscripting.easy import *\n",
    "localhostport_s = 10000\n",
    "s_i, g_i = new_server('localhost', localhostport_s, password='')\n",
    "\n",
    "localhostport_s = 10001\n",
    "s_o, g_o = new_server('localhost', localhostport_s, password='')"
   ]
  },
  {
   "cell_type": "code",
   "execution_count": 5,
   "metadata": {},
   "outputs": [],
   "source": [
    "import sys\n",
    "import os\n",
    "import pandas as pd\n",
    "\n",
    "sys.path.append(os.path.abspath(\"../../\"))\n",
    "from utils import extract_functions as pf"
   ]
  },
  {
   "cell_type": "code",
   "execution_count": 6,
   "metadata": {},
   "outputs": [],
   "source": [
    "data = pf.extract_data_PM4Silt(g_o,[g_o.Phases[-1]],0.1,0.05)\n",
    "params = pf.extract_params_PM4Silt(g_i,1)\n",
    "\n",
    "data = pd.DataFrame(data)\n",
    "data.to_csv('../../data/PM4Silt/CDSSPm4silt3.csv')\n",
    "\n",
    "params = pd.DataFrame(params,index=[0])\n",
    "\n",
    "params.to_csv('../../data/PM4Silt/DSSPm4silt_params3.csv')"
   ]
  },
  {
   "cell_type": "code",
   "execution_count": null,
   "metadata": {},
   "outputs": [],
   "source": [
    "\n"
   ]
  },
  {
   "cell_type": "code",
   "execution_count": null,
   "metadata": {},
   "outputs": [],
   "source": []
  },
  {
   "cell_type": "code",
   "execution_count": null,
   "metadata": {},
   "outputs": [],
   "source": []
  }
 ],
 "metadata": {
  "kernelspec": {
   "display_name": "FIUBA",
   "language": "python",
   "name": "python3"
  },
  "language_info": {
   "codemirror_mode": {
    "name": "ipython",
    "version": 3
   },
   "file_extension": ".py",
   "mimetype": "text/x-python",
   "name": "python",
   "nbconvert_exporter": "python",
   "pygments_lexer": "ipython3",
   "version": "3.9.19"
  }
 },
 "nbformat": 4,
 "nbformat_minor": 2
}
